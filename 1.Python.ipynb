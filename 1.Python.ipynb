{
 "cells": [
  {
   "cell_type": "markdown",
   "id": "e4d1a026",
   "metadata": {},
   "source": [
    "# Variables in Python\n",
    "- Variables acts as a container to store data in memory space.\n",
    "- Variables are pointer towards object in python\n",
    "- Variables can start with letters or underscore.\n",
    "- You cannot include special characters while creating a variable.\n",
    "\n",
    "**Important points to remeber while creating a variable**\n",
    "1. Python is case sensitive\n",
    "2. If variable name involves more than 2 words, join those words with underscore.\n",
    "3. Give meaningful name to variables"
   ]
  },
  {
   "cell_type": "code",
   "execution_count": 1,
   "id": "2b985c75",
   "metadata": {
    "ExecuteTime": {
     "end_time": "2023-10-05T03:58:57.042166Z",
     "start_time": "2023-10-05T03:58:56.995451Z"
    }
   },
   "outputs": [
    {
     "data": {
      "text/plain": [
       "10"
      ]
     },
     "execution_count": 1,
     "metadata": {},
     "output_type": "execute_result"
    }
   ],
   "source": [
    "#variable\n",
    "10"
   ]
  },
  {
   "cell_type": "code",
   "execution_count": 3,
   "id": "46ee39cf",
   "metadata": {
    "ExecuteTime": {
     "end_time": "2023-10-05T04:01:02.096964Z",
     "start_time": "2023-10-05T04:01:02.087002Z"
    }
   },
   "outputs": [
    {
     "data": {
      "text/plain": [
       "10"
      ]
     },
     "execution_count": 3,
     "metadata": {},
     "output_type": "execute_result"
    }
   ],
   "source": [
    "a = 10\n",
    "a"
   ]
  },
  {
   "cell_type": "code",
   "execution_count": 4,
   "id": "1848c4dc",
   "metadata": {
    "ExecuteTime": {
     "end_time": "2023-10-05T04:02:24.273272Z",
     "start_time": "2023-10-05T04:02:24.258264Z"
    }
   },
   "outputs": [
    {
     "data": {
      "text/plain": [
       "2337281305168"
      ]
     },
     "execution_count": 4,
     "metadata": {},
     "output_type": "execute_result"
    }
   ],
   "source": [
    "id(a)"
   ]
  },
  {
   "cell_type": "code",
   "execution_count": 5,
   "id": "51c2db2c",
   "metadata": {
    "ExecuteTime": {
     "end_time": "2023-10-05T04:04:17.505670Z",
     "start_time": "2023-10-05T04:04:17.491455Z"
    }
   },
   "outputs": [
    {
     "ename": "SyntaxError",
     "evalue": "invalid syntax (2076040130.py, line 1)",
     "output_type": "error",
     "traceback": [
      "\u001b[1;36m  File \u001b[1;32m\"C:\\Users\\Aishwarya\\AppData\\Local\\Temp\\ipykernel_22872\\2076040130.py\"\u001b[1;36m, line \u001b[1;32m1\u001b[0m\n\u001b[1;33m    2name = 'Python'\u001b[0m\n\u001b[1;37m     ^\u001b[0m\n\u001b[1;31mSyntaxError\u001b[0m\u001b[1;31m:\u001b[0m invalid syntax\n"
     ]
    }
   ],
   "source": [
    "2name = 'Python'"
   ]
  },
  {
   "cell_type": "code",
   "execution_count": 6,
   "id": "b6d86f9d",
   "metadata": {
    "ExecuteTime": {
     "end_time": "2023-10-05T04:05:00.534038Z",
     "start_time": "2023-10-05T04:05:00.503438Z"
    }
   },
   "outputs": [
    {
     "data": {
      "text/plain": [
       "'Python'"
      ]
     },
     "execution_count": 6,
     "metadata": {},
     "output_type": "execute_result"
    }
   ],
   "source": [
    "name2 = 'Python'\n",
    "name2"
   ]
  },
  {
   "cell_type": "code",
   "execution_count": 7,
   "id": "17a1283d",
   "metadata": {
    "ExecuteTime": {
     "end_time": "2023-10-05T04:05:24.713929Z",
     "start_time": "2023-10-05T04:05:24.700264Z"
    }
   },
   "outputs": [
    {
     "ename": "SyntaxError",
     "evalue": "invalid syntax (3299916095.py, line 1)",
     "output_type": "error",
     "traceback": [
      "\u001b[1;36m  File \u001b[1;32m\"C:\\Users\\Aishwarya\\AppData\\Local\\Temp\\ipykernel_22872\\3299916095.py\"\u001b[1;36m, line \u001b[1;32m1\u001b[0m\n\u001b[1;33m    @name = 20\u001b[0m\n\u001b[1;37m          ^\u001b[0m\n\u001b[1;31mSyntaxError\u001b[0m\u001b[1;31m:\u001b[0m invalid syntax\n"
     ]
    }
   ],
   "source": [
    "@name = 20"
   ]
  },
  {
   "cell_type": "code",
   "execution_count": 8,
   "id": "664c2728",
   "metadata": {
    "ExecuteTime": {
     "end_time": "2023-10-05T04:07:50.070051Z",
     "start_time": "2023-10-05T04:07:50.061204Z"
    }
   },
   "outputs": [],
   "source": [
    "#Single line comment"
   ]
  },
  {
   "cell_type": "code",
   "execution_count": 9,
   "id": "91c3d50c",
   "metadata": {
    "ExecuteTime": {
     "end_time": "2023-10-05T04:08:49.273857Z",
     "start_time": "2023-10-05T04:08:49.249869Z"
    }
   },
   "outputs": [
    {
     "data": {
      "text/plain": [
       "60"
      ]
     },
     "execution_count": 9,
     "metadata": {},
     "output_type": "execute_result"
    }
   ],
   "source": [
    "age = 60 #age variable contains 60 value.\n",
    "age"
   ]
  },
  {
   "cell_type": "code",
   "execution_count": 11,
   "id": "cf166f72",
   "metadata": {
    "ExecuteTime": {
     "end_time": "2023-10-05T04:10:21.151319Z",
     "start_time": "2023-10-05T04:10:21.146298Z"
    }
   },
   "outputs": [],
   "source": [
    "#This is first session\n",
    "#This is second session"
   ]
  },
  {
   "cell_type": "code",
   "execution_count": 12,
   "id": "159d6f1b",
   "metadata": {
    "ExecuteTime": {
     "end_time": "2023-10-05T04:11:27.926536Z",
     "start_time": "2023-10-05T04:11:27.893774Z"
    }
   },
   "outputs": [
    {
     "data": {
      "text/plain": [
       "'This is first line  This is second line \\nThis is third line\\nThis is fourth line'"
      ]
     },
     "execution_count": 12,
     "metadata": {},
     "output_type": "execute_result"
    }
   ],
   "source": [
    "#Multi-line comment\n",
    "'''This is first line  This is second line \n",
    "This is third line\n",
    "This is fourth line'''"
   ]
  },
  {
   "cell_type": "markdown",
   "id": "72a732b2",
   "metadata": {},
   "source": [
    "# Data types in python\n",
    "1. Integer\n",
    "2. Float\n",
    "3. String\n",
    "4. Boolean"
   ]
  },
  {
   "cell_type": "code",
   "execution_count": 13,
   "id": "85545b8e",
   "metadata": {
    "ExecuteTime": {
     "end_time": "2023-10-05T04:15:07.332690Z",
     "start_time": "2023-10-05T04:15:07.304808Z"
    }
   },
   "outputs": [
    {
     "data": {
      "text/plain": [
       "455156"
      ]
     },
     "execution_count": 13,
     "metadata": {},
     "output_type": "execute_result"
    }
   ],
   "source": [
    "#Integer\n",
    "pin_code = 455156 \n",
    "pin_code"
   ]
  },
  {
   "cell_type": "code",
   "execution_count": 14,
   "id": "bdc54922",
   "metadata": {
    "ExecuteTime": {
     "end_time": "2023-10-05T04:16:03.252939Z",
     "start_time": "2023-10-05T04:16:03.235183Z"
    }
   },
   "outputs": [
    {
     "data": {
      "text/plain": [
       "int"
      ]
     },
     "execution_count": 14,
     "metadata": {},
     "output_type": "execute_result"
    }
   ],
   "source": [
    "type(pin_code)"
   ]
  },
  {
   "cell_type": "code",
   "execution_count": 15,
   "id": "927ccfe9",
   "metadata": {
    "ExecuteTime": {
     "end_time": "2023-10-05T04:16:39.105793Z",
     "start_time": "2023-10-05T04:16:39.094743Z"
    }
   },
   "outputs": [
    {
     "data": {
      "text/plain": [
       "float"
      ]
     },
     "execution_count": 15,
     "metadata": {},
     "output_type": "execute_result"
    }
   ],
   "source": [
    "temp = 25.2\n",
    "type(temp)"
   ]
  },
  {
   "cell_type": "code",
   "execution_count": 16,
   "id": "58cacc6c",
   "metadata": {
    "ExecuteTime": {
     "end_time": "2023-10-05T04:17:54.898303Z",
     "start_time": "2023-10-05T04:17:54.886246Z"
    }
   },
   "outputs": [
    {
     "data": {
      "text/plain": [
       "bool"
      ]
     },
     "execution_count": 16,
     "metadata": {},
     "output_type": "execute_result"
    }
   ],
   "source": [
    "logical = True\n",
    "type(logical)"
   ]
  },
  {
   "cell_type": "code",
   "execution_count": null,
   "id": "7dd85e20",
   "metadata": {
    "ExecuteTime": {
     "end_time": "2023-10-04T11:15:33.981057Z",
     "start_time": "2023-10-04T11:15:33.981057Z"
    }
   },
   "outputs": [],
   "source": [
    "#String creation"
   ]
  },
  {
   "cell_type": "code",
   "execution_count": 18,
   "id": "64b4abb8",
   "metadata": {
    "ExecuteTime": {
     "end_time": "2023-10-05T04:20:44.372730Z",
     "start_time": "2023-10-05T04:20:44.363926Z"
    }
   },
   "outputs": [
    {
     "data": {
      "text/plain": [
       "100"
      ]
     },
     "execution_count": 18,
     "metadata": {},
     "output_type": "execute_result"
    }
   ],
   "source": [
    "a = 50\n",
    "a = 100\n",
    "a"
   ]
  },
  {
   "cell_type": "code",
   "execution_count": 19,
   "id": "8c1d4774",
   "metadata": {
    "ExecuteTime": {
     "end_time": "2023-10-05T04:21:27.622086Z",
     "start_time": "2023-10-05T04:21:27.607767Z"
    }
   },
   "outputs": [],
   "source": [
    "s = 'We are learning python'\n",
    "s1 = \"We are learning python\"\n",
    "s2 = '''We are learning python'''"
   ]
  },
  {
   "cell_type": "code",
   "execution_count": 20,
   "id": "ce4237f7",
   "metadata": {
    "ExecuteTime": {
     "end_time": "2023-10-05T04:23:46.177673Z",
     "start_time": "2023-10-05T04:23:46.159023Z"
    }
   },
   "outputs": [
    {
     "data": {
      "text/plain": [
       "True"
      ]
     },
     "execution_count": 20,
     "metadata": {},
     "output_type": "execute_result"
    }
   ],
   "source": [
    "s==s1"
   ]
  },
  {
   "cell_type": "code",
   "execution_count": 21,
   "id": "1cd27d6c",
   "metadata": {
    "ExecuteTime": {
     "end_time": "2023-10-05T04:24:18.765970Z",
     "start_time": "2023-10-05T04:24:18.752121Z"
    }
   },
   "outputs": [
    {
     "data": {
      "text/plain": [
       "True"
      ]
     },
     "execution_count": 21,
     "metadata": {},
     "output_type": "execute_result"
    }
   ],
   "source": [
    "s==s2"
   ]
  },
  {
   "cell_type": "code",
   "execution_count": 23,
   "id": "88957738",
   "metadata": {
    "ExecuteTime": {
     "end_time": "2023-10-05T04:26:44.205627Z",
     "start_time": "2023-10-05T04:26:44.189384Z"
    }
   },
   "outputs": [
    {
     "ename": "SyntaxError",
     "evalue": "invalid syntax (3600212398.py, line 1)",
     "output_type": "error",
     "traceback": [
      "\u001b[1;36m  File \u001b[1;32m\"C:\\Users\\Aishwarya\\AppData\\Local\\Temp\\ipykernel_22872\\3600212398.py\"\u001b[1;36m, line \u001b[1;32m1\u001b[0m\n\u001b[1;33m    st = 'It's a laptop'\u001b[0m\n\u001b[1;37m             ^\u001b[0m\n\u001b[1;31mSyntaxError\u001b[0m\u001b[1;31m:\u001b[0m invalid syntax\n"
     ]
    }
   ],
   "source": [
    "st = 'It's a laptop'"
   ]
  },
  {
   "cell_type": "code",
   "execution_count": 24,
   "id": "9474ce2b",
   "metadata": {
    "ExecuteTime": {
     "end_time": "2023-10-05T04:27:19.540918Z",
     "start_time": "2023-10-05T04:27:19.533657Z"
    }
   },
   "outputs": [
    {
     "data": {
      "text/plain": [
       "\"It's a laptop\""
      ]
     },
     "execution_count": 24,
     "metadata": {},
     "output_type": "execute_result"
    }
   ],
   "source": [
    "st = \"It's a laptop\"\n",
    "st"
   ]
  },
  {
   "cell_type": "code",
   "execution_count": 26,
   "id": "5ca4e28f",
   "metadata": {
    "ExecuteTime": {
     "end_time": "2023-10-05T04:48:05.691709Z",
     "start_time": "2023-10-05T04:48:05.671325Z"
    }
   },
   "outputs": [
    {
     "data": {
      "text/plain": [
       "'It\"s a laptop'"
      ]
     },
     "execution_count": 26,
     "metadata": {},
     "output_type": "execute_result"
    }
   ],
   "source": [
    "st1 = 'It\"s a laptop'\n",
    "st1"
   ]
  },
  {
   "cell_type": "markdown",
   "id": "9aa70c2d",
   "metadata": {},
   "source": [
    "- ESC + 1 = Title/Heading\n",
    "- ESC + Y = Code\n",
    "- ESC + M = Markdown"
   ]
  },
  {
   "cell_type": "markdown",
   "id": "6c46cfad",
   "metadata": {},
   "source": [
    "# Typecasting\n",
    "\n",
    "- Typecasting is used to change the data types."
   ]
  },
  {
   "cell_type": "code",
   "execution_count": 27,
   "id": "e74aa1ba",
   "metadata": {
    "ExecuteTime": {
     "end_time": "2023-10-05T04:50:26.827783Z",
     "start_time": "2023-10-05T04:50:26.808509Z"
    }
   },
   "outputs": [
    {
     "data": {
      "text/plain": [
       "int"
      ]
     },
     "execution_count": 27,
     "metadata": {},
     "output_type": "execute_result"
    }
   ],
   "source": [
    "age\n",
    "type(age)"
   ]
  },
  {
   "cell_type": "code",
   "execution_count": 28,
   "id": "22cb28d2",
   "metadata": {
    "ExecuteTime": {
     "end_time": "2023-10-05T04:50:59.402836Z",
     "start_time": "2023-10-05T04:50:59.382044Z"
    }
   },
   "outputs": [
    {
     "data": {
      "text/plain": [
       "'60'"
      ]
     },
     "execution_count": 28,
     "metadata": {},
     "output_type": "execute_result"
    }
   ],
   "source": [
    "str(age)"
   ]
  },
  {
   "cell_type": "code",
   "execution_count": 31,
   "id": "f9f07597",
   "metadata": {
    "ExecuteTime": {
     "end_time": "2023-10-05T04:53:34.255558Z",
     "start_time": "2023-10-05T04:53:34.235204Z"
    }
   },
   "outputs": [
    {
     "data": {
      "text/plain": [
       "str"
      ]
     },
     "execution_count": 31,
     "metadata": {},
     "output_type": "execute_result"
    }
   ],
   "source": [
    "x = str(age)\n",
    "type(x)"
   ]
  },
  {
   "cell_type": "code",
   "execution_count": 33,
   "id": "c054d310",
   "metadata": {
    "ExecuteTime": {
     "end_time": "2023-10-05T04:54:03.100200Z",
     "start_time": "2023-10-05T04:54:03.082191Z"
    }
   },
   "outputs": [
    {
     "data": {
      "text/plain": [
       "'60'"
      ]
     },
     "execution_count": 33,
     "metadata": {},
     "output_type": "execute_result"
    }
   ],
   "source": [
    "x"
   ]
  },
  {
   "cell_type": "code",
   "execution_count": 34,
   "id": "0a30cd11",
   "metadata": {
    "ExecuteTime": {
     "end_time": "2023-10-05T04:54:04.611279Z",
     "start_time": "2023-10-05T04:54:04.602575Z"
    }
   },
   "outputs": [
    {
     "data": {
      "text/plain": [
       "60"
      ]
     },
     "execution_count": 34,
     "metadata": {},
     "output_type": "execute_result"
    }
   ],
   "source": [
    "int(x)"
   ]
  },
  {
   "cell_type": "code",
   "execution_count": 35,
   "id": "0b1af55a",
   "metadata": {
    "ExecuteTime": {
     "end_time": "2023-10-05T04:54:30.363023Z",
     "start_time": "2023-10-05T04:54:30.345071Z"
    }
   },
   "outputs": [
    {
     "data": {
      "text/plain": [
       "60.0"
      ]
     },
     "execution_count": 35,
     "metadata": {},
     "output_type": "execute_result"
    }
   ],
   "source": [
    "float(age)"
   ]
  },
  {
   "cell_type": "code",
   "execution_count": 36,
   "id": "13afec71",
   "metadata": {
    "ExecuteTime": {
     "end_time": "2023-10-05T04:54:46.058431Z",
     "start_time": "2023-10-05T04:54:46.045285Z"
    }
   },
   "outputs": [
    {
     "data": {
      "text/plain": [
       "60"
      ]
     },
     "execution_count": 36,
     "metadata": {},
     "output_type": "execute_result"
    }
   ],
   "source": [
    "age"
   ]
  },
  {
   "cell_type": "code",
   "execution_count": 37,
   "id": "30c5f02d",
   "metadata": {
    "ExecuteTime": {
     "end_time": "2023-10-05T04:56:09.944150Z",
     "start_time": "2023-10-05T04:56:09.929105Z"
    }
   },
   "outputs": [
    {
     "data": {
      "text/plain": [
       "True"
      ]
     },
     "execution_count": 37,
     "metadata": {},
     "output_type": "execute_result"
    }
   ],
   "source": [
    "bool(-5)"
   ]
  },
  {
   "cell_type": "code",
   "execution_count": 38,
   "id": "7dc1f094",
   "metadata": {
    "ExecuteTime": {
     "end_time": "2023-10-05T04:56:41.572658Z",
     "start_time": "2023-10-05T04:56:41.558787Z"
    }
   },
   "outputs": [
    {
     "data": {
      "text/plain": [
       "False"
      ]
     },
     "execution_count": 38,
     "metadata": {},
     "output_type": "execute_result"
    }
   ],
   "source": [
    "zero = 0\n",
    "\n",
    "bool(zero)"
   ]
  },
  {
   "cell_type": "code",
   "execution_count": 39,
   "id": "2ba2caed",
   "metadata": {
    "ExecuteTime": {
     "end_time": "2023-10-05T04:56:50.016422Z",
     "start_time": "2023-10-05T04:56:49.996748Z"
    }
   },
   "outputs": [
    {
     "data": {
      "text/plain": [
       "True"
      ]
     },
     "execution_count": 39,
     "metadata": {},
     "output_type": "execute_result"
    }
   ],
   "source": [
    "bool(age)"
   ]
  },
  {
   "cell_type": "code",
   "execution_count": null,
   "id": "0b7dbc55",
   "metadata": {
    "ExecuteTime": {
     "end_time": "2023-10-04T11:15:34.014278Z",
     "start_time": "2023-10-04T11:15:34.014278Z"
    }
   },
   "outputs": [],
   "source": [
    "#We can convert any type of values to bool type, and the output for all values will be True , \n",
    "#Except 0, which is False"
   ]
  },
  {
   "cell_type": "markdown",
   "id": "25d2594c",
   "metadata": {},
   "source": [
    "# String methods"
   ]
  },
  {
   "cell_type": "code",
   "execution_count": 40,
   "id": "692d80bf",
   "metadata": {
    "ExecuteTime": {
     "end_time": "2023-10-05T05:00:00.609203Z",
     "start_time": "2023-10-05T05:00:00.588765Z"
    }
   },
   "outputs": [
    {
     "data": {
      "text/plain": [
       "'We are learning python'"
      ]
     },
     "execution_count": 40,
     "metadata": {},
     "output_type": "execute_result"
    }
   ],
   "source": [
    "#Create a string\n",
    "s"
   ]
  },
  {
   "cell_type": "code",
   "execution_count": null,
   "id": "6498f994",
   "metadata": {
    "ExecuteTime": {
     "end_time": "2023-10-04T11:15:34.018658Z",
     "start_time": "2023-10-04T11:15:34.018658Z"
    }
   },
   "outputs": [],
   "source": [
    "#Capitalize function"
   ]
  },
  {
   "cell_type": "code",
   "execution_count": 41,
   "id": "8473ff58",
   "metadata": {
    "ExecuteTime": {
     "end_time": "2023-10-05T05:04:31.961794Z",
     "start_time": "2023-10-05T05:04:31.944888Z"
    }
   },
   "outputs": [
    {
     "data": {
      "text/plain": [
       "'We are learning python'"
      ]
     },
     "execution_count": 41,
     "metadata": {},
     "output_type": "execute_result"
    }
   ],
   "source": [
    "s1 = 'we are learning python'\n",
    "s1.capitalize()\n",
    "s"
   ]
  },
  {
   "cell_type": "markdown",
   "id": "5b49cc73",
   "metadata": {},
   "source": [
    "- To get list of all function syntax is (variable.+tab)\n",
    "- To open documentation, go inside function parenthesis and press (shift+tab)"
   ]
  },
  {
   "cell_type": "code",
   "execution_count": 42,
   "id": "5c20c797",
   "metadata": {
    "ExecuteTime": {
     "end_time": "2023-10-05T05:04:54.761206Z",
     "start_time": "2023-10-05T05:04:54.750422Z"
    }
   },
   "outputs": [
    {
     "data": {
      "text/plain": [
       "'We are learning python'"
      ]
     },
     "execution_count": 42,
     "metadata": {},
     "output_type": "execute_result"
    }
   ],
   "source": [
    "s.capitalize()\n",
    "s"
   ]
  },
  {
   "cell_type": "code",
   "execution_count": null,
   "id": "6122e0b5",
   "metadata": {
    "ExecuteTime": {
     "end_time": "2023-10-04T11:15:34.025808Z",
     "start_time": "2023-10-04T11:15:34.025808Z"
    }
   },
   "outputs": [],
   "source": [
    "#Count"
   ]
  },
  {
   "cell_type": "code",
   "execution_count": 43,
   "id": "be3c6759",
   "metadata": {
    "ExecuteTime": {
     "end_time": "2023-10-05T05:06:57.208843Z",
     "start_time": "2023-10-05T05:06:56.660750Z"
    }
   },
   "outputs": [
    {
     "ename": "TypeError",
     "evalue": "count() takes at least 1 argument (0 given)",
     "output_type": "error",
     "traceback": [
      "\u001b[1;31m---------------------------------------------------------------------------\u001b[0m",
      "\u001b[1;31mTypeError\u001b[0m                                 Traceback (most recent call last)",
      "\u001b[1;32m~\\AppData\\Local\\Temp\\ipykernel_22872\\2214828068.py\u001b[0m in \u001b[0;36m<module>\u001b[1;34m\u001b[0m\n\u001b[1;32m----> 1\u001b[1;33m \u001b[0ms\u001b[0m\u001b[1;33m.\u001b[0m\u001b[0mcount\u001b[0m\u001b[1;33m(\u001b[0m\u001b[1;33m)\u001b[0m\u001b[1;33m\u001b[0m\u001b[1;33m\u001b[0m\u001b[0m\n\u001b[0m",
      "\u001b[1;31mTypeError\u001b[0m: count() takes at least 1 argument (0 given)"
     ]
    }
   ],
   "source": [
    "s.count()"
   ]
  },
  {
   "cell_type": "code",
   "execution_count": 44,
   "id": "ac834ae8",
   "metadata": {
    "ExecuteTime": {
     "end_time": "2023-10-05T05:08:13.819755Z",
     "start_time": "2023-10-05T05:08:13.797314Z"
    }
   },
   "outputs": [
    {
     "data": {
      "text/plain": [
       "2"
      ]
     },
     "execution_count": 44,
     "metadata": {},
     "output_type": "execute_result"
    }
   ],
   "source": [
    "s.count('a')"
   ]
  },
  {
   "cell_type": "code",
   "execution_count": 45,
   "id": "2f9996ec",
   "metadata": {
    "ExecuteTime": {
     "end_time": "2023-10-05T05:08:36.269386Z",
     "start_time": "2023-10-05T05:08:36.260855Z"
    }
   },
   "outputs": [
    {
     "data": {
      "text/plain": [
       "3"
      ]
     },
     "execution_count": 45,
     "metadata": {},
     "output_type": "execute_result"
    }
   ],
   "source": [
    "s.count(' ')"
   ]
  },
  {
   "cell_type": "code",
   "execution_count": null,
   "id": "5a6e1bad",
   "metadata": {
    "ExecuteTime": {
     "end_time": "2023-10-04T11:15:34.032869Z",
     "start_time": "2023-10-04T11:15:34.032869Z"
    }
   },
   "outputs": [],
   "source": [
    "# Starts with and endswith function"
   ]
  },
  {
   "cell_type": "code",
   "execution_count": 46,
   "id": "afa65144",
   "metadata": {
    "ExecuteTime": {
     "end_time": "2023-10-05T05:10:03.919032Z",
     "start_time": "2023-10-05T05:10:03.895527Z"
    }
   },
   "outputs": [
    {
     "data": {
      "text/plain": [
       "'We are learning python'"
      ]
     },
     "execution_count": 46,
     "metadata": {},
     "output_type": "execute_result"
    }
   ],
   "source": [
    "s"
   ]
  },
  {
   "cell_type": "code",
   "execution_count": 47,
   "id": "96b5493e",
   "metadata": {
    "ExecuteTime": {
     "end_time": "2023-10-05T05:10:58.216522Z",
     "start_time": "2023-10-05T05:10:58.197489Z"
    }
   },
   "outputs": [
    {
     "data": {
      "text/plain": [
       "False"
      ]
     },
     "execution_count": 47,
     "metadata": {},
     "output_type": "execute_result"
    }
   ],
   "source": [
    "s.startswith('we')"
   ]
  },
  {
   "cell_type": "code",
   "execution_count": 48,
   "id": "726af7a4",
   "metadata": {
    "ExecuteTime": {
     "end_time": "2023-10-05T05:11:07.984365Z",
     "start_time": "2023-10-05T05:11:07.969066Z"
    }
   },
   "outputs": [
    {
     "data": {
      "text/plain": [
       "True"
      ]
     },
     "execution_count": 48,
     "metadata": {},
     "output_type": "execute_result"
    }
   ],
   "source": [
    "s.startswith('W')"
   ]
  },
  {
   "cell_type": "code",
   "execution_count": 49,
   "id": "baafb102",
   "metadata": {
    "ExecuteTime": {
     "end_time": "2023-10-05T05:11:31.444605Z",
     "start_time": "2023-10-05T05:11:31.436086Z"
    }
   },
   "outputs": [
    {
     "data": {
      "text/plain": [
       "True"
      ]
     },
     "execution_count": 49,
     "metadata": {},
     "output_type": "execute_result"
    }
   ],
   "source": [
    "s.endswith('n')"
   ]
  },
  {
   "cell_type": "code",
   "execution_count": 50,
   "id": "f2e3cece",
   "metadata": {
    "ExecuteTime": {
     "end_time": "2023-10-05T05:11:36.419461Z",
     "start_time": "2023-10-05T05:11:36.397931Z"
    }
   },
   "outputs": [
    {
     "data": {
      "text/plain": [
       "False"
      ]
     },
     "execution_count": 50,
     "metadata": {},
     "output_type": "execute_result"
    }
   ],
   "source": [
    "s.endswith('N')"
   ]
  },
  {
   "cell_type": "code",
   "execution_count": null,
   "id": "b52f85af",
   "metadata": {
    "ExecuteTime": {
     "end_time": "2023-10-04T11:15:34.052097Z",
     "start_time": "2023-10-04T11:15:34.052097Z"
    }
   },
   "outputs": [],
   "source": [
    "#Find"
   ]
  },
  {
   "cell_type": "code",
   "execution_count": 51,
   "id": "b99a19ba",
   "metadata": {
    "ExecuteTime": {
     "end_time": "2023-10-05T05:12:00.046068Z",
     "start_time": "2023-10-05T05:12:00.029138Z"
    }
   },
   "outputs": [
    {
     "data": {
      "text/plain": [
       "'We are learning python'"
      ]
     },
     "execution_count": 51,
     "metadata": {},
     "output_type": "execute_result"
    }
   ],
   "source": [
    "s"
   ]
  },
  {
   "cell_type": "code",
   "execution_count": 53,
   "id": "367dc37f",
   "metadata": {
    "ExecuteTime": {
     "end_time": "2023-10-05T05:13:59.193030Z",
     "start_time": "2023-10-05T05:13:59.168413Z"
    }
   },
   "outputs": [
    {
     "ename": "TypeError",
     "evalue": "find() takes at least 1 argument (0 given)",
     "output_type": "error",
     "traceback": [
      "\u001b[1;31m---------------------------------------------------------------------------\u001b[0m",
      "\u001b[1;31mTypeError\u001b[0m                                 Traceback (most recent call last)",
      "\u001b[1;32m~\\AppData\\Local\\Temp\\ipykernel_22872\\2862753428.py\u001b[0m in \u001b[0;36m<module>\u001b[1;34m\u001b[0m\n\u001b[1;32m----> 1\u001b[1;33m \u001b[0ms\u001b[0m\u001b[1;33m.\u001b[0m\u001b[0mfind\u001b[0m\u001b[1;33m(\u001b[0m\u001b[1;33m)\u001b[0m\u001b[1;33m\u001b[0m\u001b[1;33m\u001b[0m\u001b[0m\n\u001b[0m",
      "\u001b[1;31mTypeError\u001b[0m: find() takes at least 1 argument (0 given)"
     ]
    }
   ],
   "source": [
    "s.find()"
   ]
  },
  {
   "cell_type": "code",
   "execution_count": 65,
   "id": "25bd5252",
   "metadata": {
    "ExecuteTime": {
     "end_time": "2023-10-05T05:21:19.514826Z",
     "start_time": "2023-10-05T05:21:19.494769Z"
    }
   },
   "outputs": [
    {
     "data": {
      "text/plain": [
       "'We are learning python'"
      ]
     },
     "execution_count": 65,
     "metadata": {},
     "output_type": "execute_result"
    }
   ],
   "source": [
    "s = 'We are learning python'\n",
    "s"
   ]
  },
  {
   "cell_type": "code",
   "execution_count": 66,
   "id": "1c83cfa6",
   "metadata": {
    "ExecuteTime": {
     "end_time": "2023-10-05T05:22:04.326425Z",
     "start_time": "2023-10-05T05:22:04.312174Z"
    }
   },
   "outputs": [
    {
     "data": {
      "text/plain": [
       "7"
      ]
     },
     "execution_count": 66,
     "metadata": {},
     "output_type": "execute_result"
    }
   ],
   "source": [
    "s.find('learning')"
   ]
  },
  {
   "cell_type": "code",
   "execution_count": 67,
   "id": "abfcd482",
   "metadata": {
    "ExecuteTime": {
     "end_time": "2023-10-05T05:22:19.835754Z",
     "start_time": "2023-10-05T05:22:19.816900Z"
    }
   },
   "outputs": [
    {
     "data": {
      "text/plain": [
       "3"
      ]
     },
     "execution_count": 67,
     "metadata": {},
     "output_type": "execute_result"
    }
   ],
   "source": [
    "s.find('are')"
   ]
  },
  {
   "cell_type": "code",
   "execution_count": 54,
   "id": "68169690",
   "metadata": {
    "ExecuteTime": {
     "end_time": "2023-10-05T05:14:27.407996Z",
     "start_time": "2023-10-05T05:14:27.390180Z"
    }
   },
   "outputs": [
    {
     "data": {
      "text/plain": [
       "0"
      ]
     },
     "execution_count": 54,
     "metadata": {},
     "output_type": "execute_result"
    }
   ],
   "source": [
    "s.find('We')"
   ]
  },
  {
   "cell_type": "code",
   "execution_count": null,
   "id": "0ede6c13",
   "metadata": {
    "ExecuteTime": {
     "end_time": "2023-10-04T11:15:34.061175Z",
     "start_time": "2023-10-04T11:15:34.061175Z"
    }
   },
   "outputs": [],
   "source": [
    "#Replace "
   ]
  },
  {
   "cell_type": "code",
   "execution_count": 55,
   "id": "1091ce76",
   "metadata": {
    "ExecuteTime": {
     "end_time": "2023-10-05T05:15:15.084689Z",
     "start_time": "2023-10-05T05:15:15.069247Z"
    }
   },
   "outputs": [
    {
     "data": {
      "text/plain": [
       "'We are learning python'"
      ]
     },
     "execution_count": 55,
     "metadata": {},
     "output_type": "execute_result"
    }
   ],
   "source": [
    "s"
   ]
  },
  {
   "cell_type": "code",
   "execution_count": 56,
   "id": "4787d34a",
   "metadata": {
    "ExecuteTime": {
     "end_time": "2023-10-05T05:15:57.894374Z",
     "start_time": "2023-10-05T05:15:57.861771Z"
    }
   },
   "outputs": [
    {
     "data": {
      "text/plain": [
       "'They are learning python'"
      ]
     },
     "execution_count": 56,
     "metadata": {},
     "output_type": "execute_result"
    }
   ],
   "source": [
    "s.replace('We','They')"
   ]
  },
  {
   "cell_type": "code",
   "execution_count": 57,
   "id": "56fbe4e5",
   "metadata": {
    "ExecuteTime": {
     "end_time": "2023-10-05T05:16:37.238439Z",
     "start_time": "2023-10-05T05:16:37.217519Z"
    }
   },
   "outputs": [
    {
     "data": {
      "text/plain": [
       "'We are learning python'"
      ]
     },
     "execution_count": 57,
     "metadata": {},
     "output_type": "execute_result"
    }
   ],
   "source": [
    "s"
   ]
  },
  {
   "cell_type": "code",
   "execution_count": 58,
   "id": "bf513995",
   "metadata": {
    "ExecuteTime": {
     "end_time": "2023-10-05T05:19:01.227016Z",
     "start_time": "2023-10-05T05:19:01.220443Z"
    }
   },
   "outputs": [],
   "source": [
    "s = s.replace('We','They')"
   ]
  },
  {
   "cell_type": "code",
   "execution_count": 59,
   "id": "b162e0ba",
   "metadata": {
    "ExecuteTime": {
     "end_time": "2023-10-05T05:19:02.995427Z",
     "start_time": "2023-10-05T05:19:02.970219Z"
    }
   },
   "outputs": [
    {
     "data": {
      "text/plain": [
       "'They are learning python'"
      ]
     },
     "execution_count": 59,
     "metadata": {},
     "output_type": "execute_result"
    }
   ],
   "source": [
    "s"
   ]
  },
  {
   "cell_type": "code",
   "execution_count": null,
   "id": "79c9ffa6",
   "metadata": {
    "ExecuteTime": {
     "end_time": "2023-10-04T11:15:34.074333Z",
     "start_time": "2023-10-04T11:15:34.074333Z"
    }
   },
   "outputs": [],
   "source": [
    "#Basic functions "
   ]
  },
  {
   "cell_type": "code",
   "execution_count": 60,
   "id": "4f210d86",
   "metadata": {
    "ExecuteTime": {
     "end_time": "2023-10-05T05:19:33.544986Z",
     "start_time": "2023-10-05T05:19:33.533398Z"
    }
   },
   "outputs": [
    {
     "data": {
      "text/plain": [
       "'THEY ARE LEARNING PYTHON'"
      ]
     },
     "execution_count": 60,
     "metadata": {},
     "output_type": "execute_result"
    }
   ],
   "source": [
    "s.upper()"
   ]
  },
  {
   "cell_type": "code",
   "execution_count": 61,
   "id": "1bb16fb7",
   "metadata": {
    "ExecuteTime": {
     "end_time": "2023-10-05T05:19:45.686935Z",
     "start_time": "2023-10-05T05:19:45.671868Z"
    }
   },
   "outputs": [
    {
     "data": {
      "text/plain": [
       "'they are learning python'"
      ]
     },
     "execution_count": 61,
     "metadata": {},
     "output_type": "execute_result"
    }
   ],
   "source": [
    "s.lower()"
   ]
  },
  {
   "cell_type": "code",
   "execution_count": 62,
   "id": "b7de26d7",
   "metadata": {
    "ExecuteTime": {
     "end_time": "2023-10-05T05:19:53.575650Z",
     "start_time": "2023-10-05T05:19:53.560895Z"
    },
    "scrolled": true
   },
   "outputs": [
    {
     "data": {
      "text/plain": [
       "'They are learning python'"
      ]
     },
     "execution_count": 62,
     "metadata": {},
     "output_type": "execute_result"
    }
   ],
   "source": [
    "s"
   ]
  },
  {
   "cell_type": "markdown",
   "id": "48220fa4",
   "metadata": {},
   "source": [
    "# Data Structures\n",
    "1. Lists\n",
    "2. Tuple\n",
    "3. Dictionary\n",
    "4. Sets"
   ]
  },
  {
   "cell_type": "markdown",
   "id": "78753086",
   "metadata": {},
   "source": [
    "**Lists**\n",
    "\n",
    "- Lists are the built in data structures in python.\n",
    "- Lists are heterogenous data structure.\n",
    "- Lists are mutable."
   ]
  },
  {
   "cell_type": "code",
   "execution_count": null,
   "id": "8417c924",
   "metadata": {
    "ExecuteTime": {
     "end_time": "2023-10-04T11:15:34.083589Z",
     "start_time": "2023-10-04T11:15:34.083589Z"
    }
   },
   "outputs": [],
   "source": [
    "#Creating lists"
   ]
  },
  {
   "cell_type": "code",
   "execution_count": 1,
   "id": "f1570c8d",
   "metadata": {
    "ExecuteTime": {
     "end_time": "2023-10-09T03:44:39.802061Z",
     "start_time": "2023-10-09T03:44:39.744598Z"
    }
   },
   "outputs": [
    {
     "data": {
      "text/plain": [
       "list"
      ]
     },
     "execution_count": 1,
     "metadata": {},
     "output_type": "execute_result"
    }
   ],
   "source": [
    "lst = []\n",
    "type(lst)"
   ]
  },
  {
   "cell_type": "code",
   "execution_count": 2,
   "id": "3f4790ef",
   "metadata": {
    "ExecuteTime": {
     "end_time": "2023-10-09T03:45:39.025881Z",
     "start_time": "2023-10-09T03:45:39.007775Z"
    }
   },
   "outputs": [
    {
     "data": {
      "text/plain": [
       "[10, 10.2, True, 'Python']"
      ]
     },
     "execution_count": 2,
     "metadata": {},
     "output_type": "execute_result"
    }
   ],
   "source": [
    "lst = [10,10.2,True,'Python']\n",
    "lst"
   ]
  },
  {
   "cell_type": "code",
   "execution_count": null,
   "id": "2c6bba18",
   "metadata": {
    "ExecuteTime": {
     "end_time": "2023-10-04T11:15:34.090697Z",
     "start_time": "2023-10-04T11:15:34.090697Z"
    }
   },
   "outputs": [],
   "source": [
    "#append"
   ]
  },
  {
   "cell_type": "code",
   "execution_count": 3,
   "id": "19d6c98e",
   "metadata": {
    "ExecuteTime": {
     "end_time": "2023-10-09T03:47:51.313223Z",
     "start_time": "2023-10-09T03:47:51.296878Z"
    }
   },
   "outputs": [],
   "source": [
    "lst.append(False)"
   ]
  },
  {
   "cell_type": "code",
   "execution_count": 4,
   "id": "bbde84dd",
   "metadata": {
    "ExecuteTime": {
     "end_time": "2023-10-09T03:47:59.122566Z",
     "start_time": "2023-10-09T03:47:59.092199Z"
    }
   },
   "outputs": [
    {
     "data": {
      "text/plain": [
       "[10, 10.2, True, 'Python', False]"
      ]
     },
     "execution_count": 4,
     "metadata": {},
     "output_type": "execute_result"
    }
   ],
   "source": [
    "lst"
   ]
  },
  {
   "cell_type": "code",
   "execution_count": 5,
   "id": "a1909662",
   "metadata": {
    "ExecuteTime": {
     "end_time": "2023-10-09T03:48:28.684157Z",
     "start_time": "2023-10-09T03:48:28.668829Z"
    }
   },
   "outputs": [],
   "source": [
    "lst.append('R')"
   ]
  },
  {
   "cell_type": "code",
   "execution_count": 6,
   "id": "63b3275f",
   "metadata": {
    "ExecuteTime": {
     "end_time": "2023-10-09T03:48:30.167464Z",
     "start_time": "2023-10-09T03:48:30.149325Z"
    }
   },
   "outputs": [
    {
     "data": {
      "text/plain": [
       "[10, 10.2, True, 'Python', False, 'R']"
      ]
     },
     "execution_count": 6,
     "metadata": {},
     "output_type": "execute_result"
    }
   ],
   "source": [
    "lst"
   ]
  },
  {
   "cell_type": "code",
   "execution_count": null,
   "id": "3b379bef",
   "metadata": {
    "ExecuteTime": {
     "end_time": "2023-10-04T11:15:34.101697Z",
     "start_time": "2023-10-04T11:15:34.101697Z"
    }
   },
   "outputs": [],
   "source": [
    "#Count "
   ]
  },
  {
   "cell_type": "code",
   "execution_count": 7,
   "id": "41e60574",
   "metadata": {
    "ExecuteTime": {
     "end_time": "2023-10-09T03:49:16.626217Z",
     "start_time": "2023-10-09T03:49:16.597692Z"
    }
   },
   "outputs": [
    {
     "data": {
      "text/plain": [
       "1"
      ]
     },
     "execution_count": 7,
     "metadata": {},
     "output_type": "execute_result"
    }
   ],
   "source": [
    "lst.count('R')"
   ]
  },
  {
   "cell_type": "code",
   "execution_count": 8,
   "id": "5c885154",
   "metadata": {
    "ExecuteTime": {
     "end_time": "2023-10-09T03:49:26.906201Z",
     "start_time": "2023-10-09T03:49:26.893352Z"
    }
   },
   "outputs": [
    {
     "data": {
      "text/plain": [
       "0"
      ]
     },
     "execution_count": 8,
     "metadata": {},
     "output_type": "execute_result"
    }
   ],
   "source": [
    "lst.count('k')"
   ]
  },
  {
   "cell_type": "code",
   "execution_count": 9,
   "id": "7182cfcf",
   "metadata": {
    "ExecuteTime": {
     "end_time": "2023-10-09T03:50:56.581769Z",
     "start_time": "2023-10-09T03:50:56.570166Z"
    }
   },
   "outputs": [
    {
     "data": {
      "text/plain": [
       "3"
      ]
     },
     "execution_count": 9,
     "metadata": {},
     "output_type": "execute_result"
    }
   ],
   "source": [
    "#Index\n",
    "lst.index('Python')"
   ]
  },
  {
   "cell_type": "code",
   "execution_count": 10,
   "id": "e7f4c490",
   "metadata": {
    "ExecuteTime": {
     "end_time": "2023-10-09T03:51:01.176909Z",
     "start_time": "2023-10-09T03:51:01.161520Z"
    }
   },
   "outputs": [
    {
     "data": {
      "text/plain": [
       "5"
      ]
     },
     "execution_count": 10,
     "metadata": {},
     "output_type": "execute_result"
    }
   ],
   "source": [
    "lst.index('R')"
   ]
  },
  {
   "cell_type": "code",
   "execution_count": null,
   "id": "ec790de7",
   "metadata": {
    "ExecuteTime": {
     "end_time": "2023-10-04T11:15:34.110911Z",
     "start_time": "2023-10-04T11:15:34.110911Z"
    }
   },
   "outputs": [],
   "source": [
    "#Insert"
   ]
  },
  {
   "cell_type": "code",
   "execution_count": 11,
   "id": "8b802f74",
   "metadata": {
    "ExecuteTime": {
     "end_time": "2023-10-09T03:51:42.486679Z",
     "start_time": "2023-10-09T03:51:42.474489Z"
    }
   },
   "outputs": [
    {
     "data": {
      "text/plain": [
       "[10, 10.2, True, 'Python', False, 'R']"
      ]
     },
     "execution_count": 11,
     "metadata": {},
     "output_type": "execute_result"
    }
   ],
   "source": [
    "lst"
   ]
  },
  {
   "cell_type": "code",
   "execution_count": 12,
   "id": "45aac18b",
   "metadata": {
    "ExecuteTime": {
     "end_time": "2023-10-09T03:53:09.323142Z",
     "start_time": "2023-10-09T03:53:09.310804Z"
    }
   },
   "outputs": [],
   "source": [
    "lst.insert(0,1000)"
   ]
  },
  {
   "cell_type": "code",
   "execution_count": 13,
   "id": "7bb906d0",
   "metadata": {
    "ExecuteTime": {
     "end_time": "2023-10-09T03:53:13.762491Z",
     "start_time": "2023-10-09T03:53:13.740495Z"
    }
   },
   "outputs": [
    {
     "data": {
      "text/plain": [
       "[1000, 10, 10.2, True, 'Python', False, 'R']"
      ]
     },
     "execution_count": 13,
     "metadata": {},
     "output_type": "execute_result"
    }
   ],
   "source": [
    "lst"
   ]
  },
  {
   "cell_type": "code",
   "execution_count": 14,
   "id": "065249f8",
   "metadata": {
    "ExecuteTime": {
     "end_time": "2023-10-09T03:53:47.023384Z",
     "start_time": "2023-10-09T03:53:47.016686Z"
    }
   },
   "outputs": [],
   "source": [
    "lst.insert(3,'Analyst')"
   ]
  },
  {
   "cell_type": "code",
   "execution_count": 15,
   "id": "592f6e78",
   "metadata": {
    "ExecuteTime": {
     "end_time": "2023-10-09T03:53:48.760566Z",
     "start_time": "2023-10-09T03:53:48.737984Z"
    }
   },
   "outputs": [
    {
     "data": {
      "text/plain": [
       "[1000, 10, 10.2, 'Analyst', True, 'Python', False, 'R']"
      ]
     },
     "execution_count": 15,
     "metadata": {},
     "output_type": "execute_result"
    }
   ],
   "source": [
    "lst"
   ]
  },
  {
   "cell_type": "code",
   "execution_count": null,
   "id": "cc3629cb",
   "metadata": {
    "ExecuteTime": {
     "end_time": "2023-10-04T11:15:34.124874Z",
     "start_time": "2023-10-04T11:15:34.124874Z"
    }
   },
   "outputs": [],
   "source": [
    "#pop"
   ]
  },
  {
   "cell_type": "code",
   "execution_count": 16,
   "id": "5fd7d1ba",
   "metadata": {
    "ExecuteTime": {
     "end_time": "2023-10-09T03:54:26.789635Z",
     "start_time": "2023-10-09T03:54:26.770489Z"
    }
   },
   "outputs": [
    {
     "data": {
      "text/plain": [
       "'R'"
      ]
     },
     "execution_count": 16,
     "metadata": {},
     "output_type": "execute_result"
    }
   ],
   "source": [
    "lst.pop()"
   ]
  },
  {
   "cell_type": "code",
   "execution_count": 17,
   "id": "6ab33471",
   "metadata": {
    "ExecuteTime": {
     "end_time": "2023-10-09T03:54:35.221185Z",
     "start_time": "2023-10-09T03:54:35.207377Z"
    }
   },
   "outputs": [
    {
     "data": {
      "text/plain": [
       "[1000, 10, 10.2, 'Analyst', True, 'Python', False]"
      ]
     },
     "execution_count": 17,
     "metadata": {},
     "output_type": "execute_result"
    }
   ],
   "source": [
    "lst"
   ]
  },
  {
   "cell_type": "code",
   "execution_count": null,
   "id": "e5a6f491",
   "metadata": {
    "ExecuteTime": {
     "end_time": "2023-10-04T11:15:34.157758Z",
     "start_time": "2023-10-04T11:15:34.146152Z"
    }
   },
   "outputs": [],
   "source": [
    "#remove"
   ]
  },
  {
   "cell_type": "code",
   "execution_count": 18,
   "id": "d079c056",
   "metadata": {
    "ExecuteTime": {
     "end_time": "2023-10-09T03:55:51.744084Z",
     "start_time": "2023-10-09T03:55:51.728321Z"
    }
   },
   "outputs": [],
   "source": [
    "lst.remove(10.2)"
   ]
  },
  {
   "cell_type": "code",
   "execution_count": 19,
   "id": "116759c6",
   "metadata": {
    "ExecuteTime": {
     "end_time": "2023-10-09T03:55:52.707137Z",
     "start_time": "2023-10-09T03:55:52.683170Z"
    }
   },
   "outputs": [
    {
     "data": {
      "text/plain": [
       "[1000, 10, 'Analyst', True, 'Python', False]"
      ]
     },
     "execution_count": 19,
     "metadata": {},
     "output_type": "execute_result"
    }
   ],
   "source": [
    "lst"
   ]
  },
  {
   "cell_type": "markdown",
   "id": "5dbba063",
   "metadata": {},
   "source": [
    "**Tuple**\n",
    "\n",
    "- Tuples are ordered and heterogenous data structure.\n",
    "- Tuples are immutable."
   ]
  },
  {
   "cell_type": "code",
   "execution_count": null,
   "id": "174d82a7",
   "metadata": {
    "ExecuteTime": {
     "end_time": "2023-10-04T11:15:34.476267Z",
     "start_time": "2023-10-04T11:15:34.476267Z"
    }
   },
   "outputs": [],
   "source": [
    "#Create a tuple"
   ]
  },
  {
   "cell_type": "code",
   "execution_count": 20,
   "id": "52b0c1d4",
   "metadata": {
    "ExecuteTime": {
     "end_time": "2023-10-09T04:00:14.319355Z",
     "start_time": "2023-10-09T04:00:14.304658Z"
    }
   },
   "outputs": [
    {
     "data": {
      "text/plain": [
       "tuple"
      ]
     },
     "execution_count": 20,
     "metadata": {},
     "output_type": "execute_result"
    }
   ],
   "source": [
    "t = ()\n",
    "type(t)"
   ]
  },
  {
   "cell_type": "code",
   "execution_count": 22,
   "id": "9d6cc3a9",
   "metadata": {
    "ExecuteTime": {
     "end_time": "2023-10-09T04:01:03.978048Z",
     "start_time": "2023-10-09T04:01:03.961659Z"
    }
   },
   "outputs": [
    {
     "data": {
      "text/plain": [
       "(10, 5.5, True, 'python')"
      ]
     },
     "execution_count": 22,
     "metadata": {},
     "output_type": "execute_result"
    }
   ],
   "source": [
    "t = (10,5.5,True,'python')\n",
    "t"
   ]
  },
  {
   "cell_type": "code",
   "execution_count": 23,
   "id": "5b616bb0",
   "metadata": {
    "ExecuteTime": {
     "end_time": "2023-10-09T04:01:16.831797Z",
     "start_time": "2023-10-09T04:01:16.814688Z"
    }
   },
   "outputs": [
    {
     "data": {
      "text/plain": [
       "1"
      ]
     },
     "execution_count": 23,
     "metadata": {},
     "output_type": "execute_result"
    }
   ],
   "source": [
    "t.count(5.5)"
   ]
  },
  {
   "cell_type": "code",
   "execution_count": 24,
   "id": "5e96b44f",
   "metadata": {
    "ExecuteTime": {
     "end_time": "2023-10-09T04:01:31.762984Z",
     "start_time": "2023-10-09T04:01:31.744671Z"
    }
   },
   "outputs": [
    {
     "data": {
      "text/plain": [
       "2"
      ]
     },
     "execution_count": 24,
     "metadata": {},
     "output_type": "execute_result"
    }
   ],
   "source": [
    "t.index(True)"
   ]
  },
  {
   "cell_type": "code",
   "execution_count": null,
   "id": "e6436ef7",
   "metadata": {
    "ExecuteTime": {
     "end_time": "2023-10-04T11:15:34.487614Z",
     "start_time": "2023-10-04T11:15:34.487614Z"
    }
   },
   "outputs": [],
   "source": [
    "#Accessing elements from tuple"
   ]
  },
  {
   "cell_type": "code",
   "execution_count": null,
   "id": "f1776506",
   "metadata": {
    "ExecuteTime": {
     "end_time": "2023-10-04T11:15:34.489981Z",
     "start_time": "2023-10-04T11:15:34.489981Z"
    }
   },
   "outputs": [],
   "source": [
    "t"
   ]
  },
  {
   "cell_type": "code",
   "execution_count": null,
   "id": "91227d1b",
   "metadata": {
    "ExecuteTime": {
     "end_time": "2023-10-04T11:15:34.493990Z",
     "start_time": "2023-10-04T11:15:34.493990Z"
    }
   },
   "outputs": [],
   "source": [
    "t[1]"
   ]
  },
  {
   "cell_type": "code",
   "execution_count": null,
   "id": "a913ba15",
   "metadata": {
    "ExecuteTime": {
     "end_time": "2023-10-04T11:15:34.495787Z",
     "start_time": "2023-10-04T11:15:34.495787Z"
    }
   },
   "outputs": [],
   "source": [
    "t[3]"
   ]
  },
  {
   "cell_type": "markdown",
   "id": "fb3d7af9",
   "metadata": {},
   "source": [
    "**Dictionary**\n",
    "\n",
    "- Python dictionaries are ordered collection of items.\n",
    "- Dictionary is mutable data structure.\n",
    "- It has key and value pair."
   ]
  },
  {
   "cell_type": "code",
   "execution_count": null,
   "id": "5a7874ad",
   "metadata": {
    "ExecuteTime": {
     "end_time": "2023-10-04T11:15:34.498551Z",
     "start_time": "2023-10-04T11:15:34.498551Z"
    }
   },
   "outputs": [],
   "source": [
    "#Creating an empty dictionary"
   ]
  },
  {
   "cell_type": "code",
   "execution_count": null,
   "id": "027b0252",
   "metadata": {
    "ExecuteTime": {
     "end_time": "2023-10-04T11:15:34.499875Z",
     "start_time": "2023-10-04T11:15:34.499875Z"
    }
   },
   "outputs": [],
   "source": [
    "dictionary = {}\n",
    "type(dictionary)"
   ]
  },
  {
   "cell_type": "code",
   "execution_count": null,
   "id": "de8f6bcf",
   "metadata": {
    "ExecuteTime": {
     "end_time": "2023-10-04T11:15:34.502389Z",
     "start_time": "2023-10-04T11:15:34.502389Z"
    }
   },
   "outputs": [],
   "source": [
    "#Adding elements in a dictionary"
   ]
  },
  {
   "cell_type": "code",
   "execution_count": null,
   "id": "c62f2131",
   "metadata": {
    "ExecuteTime": {
     "end_time": "2023-10-04T11:15:34.504386Z",
     "start_time": "2023-10-04T11:15:34.504386Z"
    }
   },
   "outputs": [],
   "source": [
    "dictionary = {\n",
    "    'Name':'ABC',\n",
    "    'Age' : 25,\n",
    "    'Location' :'Pune',\n",
    "    'Course': 'DS'\n",
    "}"
   ]
  },
  {
   "cell_type": "code",
   "execution_count": null,
   "id": "9d0a24d7",
   "metadata": {
    "ExecuteTime": {
     "end_time": "2023-10-04T11:15:34.506330Z",
     "start_time": "2023-10-04T11:15:34.506330Z"
    }
   },
   "outputs": [],
   "source": [
    "dictionary"
   ]
  },
  {
   "cell_type": "code",
   "execution_count": null,
   "id": "5639636a",
   "metadata": {
    "ExecuteTime": {
     "end_time": "2023-10-04T11:15:34.510460Z",
     "start_time": "2023-10-04T11:15:34.510460Z"
    }
   },
   "outputs": [],
   "source": [
    "#get"
   ]
  },
  {
   "cell_type": "code",
   "execution_count": null,
   "id": "2cfa72e3",
   "metadata": {
    "ExecuteTime": {
     "end_time": "2023-10-04T11:15:34.512709Z",
     "start_time": "2023-10-04T11:15:34.512709Z"
    }
   },
   "outputs": [],
   "source": [
    "dictionary.get('Name')"
   ]
  },
  {
   "cell_type": "code",
   "execution_count": null,
   "id": "c078e8fc",
   "metadata": {
    "ExecuteTime": {
     "end_time": "2023-10-04T11:15:34.514209Z",
     "start_time": "2023-10-04T11:15:34.514209Z"
    }
   },
   "outputs": [],
   "source": [
    "dictionary.get('Course')"
   ]
  },
  {
   "cell_type": "code",
   "execution_count": null,
   "id": "fdeec872",
   "metadata": {
    "ExecuteTime": {
     "end_time": "2023-10-04T11:15:34.517654Z",
     "start_time": "2023-10-04T11:15:34.517654Z"
    }
   },
   "outputs": [],
   "source": [
    "#items"
   ]
  },
  {
   "cell_type": "code",
   "execution_count": null,
   "id": "300c3556",
   "metadata": {
    "ExecuteTime": {
     "end_time": "2023-10-04T11:15:34.520991Z",
     "start_time": "2023-10-04T11:15:34.520991Z"
    },
    "scrolled": false
   },
   "outputs": [],
   "source": [
    "dictionary.items()"
   ]
  },
  {
   "cell_type": "code",
   "execution_count": null,
   "id": "65a60573",
   "metadata": {
    "ExecuteTime": {
     "end_time": "2023-10-04T11:15:34.521574Z",
     "start_time": "2023-10-04T11:15:34.521574Z"
    }
   },
   "outputs": [],
   "source": [
    "#keys"
   ]
  },
  {
   "cell_type": "code",
   "execution_count": null,
   "id": "b7d5bcc1",
   "metadata": {
    "ExecuteTime": {
     "end_time": "2023-10-04T11:15:34.529527Z",
     "start_time": "2023-10-04T11:15:34.529527Z"
    }
   },
   "outputs": [],
   "source": [
    "dictionary.keys()"
   ]
  },
  {
   "cell_type": "code",
   "execution_count": null,
   "id": "093b715b",
   "metadata": {
    "ExecuteTime": {
     "end_time": "2023-10-04T11:15:34.531653Z",
     "start_time": "2023-10-04T11:15:34.531653Z"
    }
   },
   "outputs": [],
   "source": [
    "#Adding values in dictionary(update)\n",
    "dictionary.update({'Date':2023})"
   ]
  },
  {
   "cell_type": "code",
   "execution_count": null,
   "id": "11a1265d",
   "metadata": {
    "ExecuteTime": {
     "end_time": "2023-10-04T11:15:34.534558Z",
     "start_time": "2023-10-04T11:15:34.534558Z"
    }
   },
   "outputs": [],
   "source": [
    "dictionary"
   ]
  },
  {
   "cell_type": "code",
   "execution_count": null,
   "id": "d3f5e395",
   "metadata": {
    "ExecuteTime": {
     "end_time": "2023-10-04T11:15:34.536967Z",
     "start_time": "2023-10-04T11:15:34.536967Z"
    }
   },
   "outputs": [],
   "source": [
    "dictionary.update({'Subject' : 'ML','Month':'July'})"
   ]
  },
  {
   "cell_type": "code",
   "execution_count": null,
   "id": "d33dbbd5",
   "metadata": {
    "ExecuteTime": {
     "end_time": "2023-10-04T11:15:34.538324Z",
     "start_time": "2023-10-04T11:15:34.538324Z"
    }
   },
   "outputs": [],
   "source": [
    "dictionary"
   ]
  },
  {
   "cell_type": "code",
   "execution_count": null,
   "id": "523e3dbc",
   "metadata": {
    "ExecuteTime": {
     "end_time": "2023-10-04T11:15:34.539831Z",
     "start_time": "2023-10-04T11:15:34.539831Z"
    }
   },
   "outputs": [],
   "source": [
    "dictionary['Name']"
   ]
  },
  {
   "cell_type": "code",
   "execution_count": null,
   "id": "525288f0",
   "metadata": {
    "ExecuteTime": {
     "end_time": "2023-10-04T11:15:34.543342Z",
     "start_time": "2023-10-04T11:15:34.543342Z"
    }
   },
   "outputs": [],
   "source": [
    "dictionary['Name'] = 'XYZ'"
   ]
  },
  {
   "cell_type": "code",
   "execution_count": null,
   "id": "93a8bf61",
   "metadata": {
    "ExecuteTime": {
     "end_time": "2023-10-04T11:15:34.546332Z",
     "start_time": "2023-10-04T11:15:34.546332Z"
    }
   },
   "outputs": [],
   "source": [
    "dictionary"
   ]
  },
  {
   "cell_type": "code",
   "execution_count": null,
   "id": "71bfdf33",
   "metadata": {
    "ExecuteTime": {
     "end_time": "2023-10-04T11:15:34.547632Z",
     "start_time": "2023-10-04T11:15:34.547632Z"
    }
   },
   "outputs": [],
   "source": [
    "dictionary['Month'] = 'Aug'"
   ]
  },
  {
   "cell_type": "code",
   "execution_count": null,
   "id": "b0481426",
   "metadata": {
    "ExecuteTime": {
     "end_time": "2023-10-04T11:15:34.550793Z",
     "start_time": "2023-10-04T11:15:34.550793Z"
    }
   },
   "outputs": [],
   "source": [
    "dictionary"
   ]
  },
  {
   "cell_type": "code",
   "execution_count": null,
   "id": "116a2fd3",
   "metadata": {
    "ExecuteTime": {
     "end_time": "2023-10-04T11:15:34.554272Z",
     "start_time": "2023-10-04T11:15:34.554272Z"
    }
   },
   "outputs": [],
   "source": [
    "dictionary.pop('Subject')"
   ]
  },
  {
   "cell_type": "code",
   "execution_count": null,
   "id": "911dd6c1",
   "metadata": {
    "ExecuteTime": {
     "end_time": "2023-10-04T11:15:34.556881Z",
     "start_time": "2023-10-04T11:15:34.556881Z"
    }
   },
   "outputs": [],
   "source": [
    "dictionary"
   ]
  },
  {
   "cell_type": "code",
   "execution_count": null,
   "id": "a0fdd0de",
   "metadata": {
    "ExecuteTime": {
     "end_time": "2023-10-04T11:15:34.558874Z",
     "start_time": "2023-10-04T11:15:34.558874Z"
    }
   },
   "outputs": [],
   "source": [
    "dictionary.pop('Date')"
   ]
  },
  {
   "cell_type": "markdown",
   "id": "da0825b4",
   "metadata": {},
   "source": [
    "**Set**\n",
    "\n",
    "- Set is a collection which is unordered,unindexed.\n",
    "- Set is immutable.\n",
    "- Sets are unordered, so you cannot be sure in which order the items will appear.\n",
    "- Sets do not allow duplicate values.\n",
    "- Once a set is created, you cannot change its items, but you can remove items and add new items.\n",
    "- As sets are unordered, they do not support indexing and slicing operations."
   ]
  },
  {
   "cell_type": "code",
   "execution_count": null,
   "id": "c24086f4",
   "metadata": {
    "ExecuteTime": {
     "end_time": "2023-10-04T11:15:34.560802Z",
     "start_time": "2023-10-04T11:15:34.560802Z"
    }
   },
   "outputs": [],
   "source": [
    "lst = [10,10,10,10,12,15]\n",
    "lst"
   ]
  },
  {
   "cell_type": "code",
   "execution_count": null,
   "id": "d5c148cf",
   "metadata": {
    "ExecuteTime": {
     "end_time": "2023-10-04T11:15:34.564515Z",
     "start_time": "2023-10-04T11:15:34.564515Z"
    }
   },
   "outputs": [],
   "source": [
    "#Does not allow duplicate items\n",
    "s1 = {10,10,10,20,30,40,50}"
   ]
  },
  {
   "cell_type": "code",
   "execution_count": null,
   "id": "7295fc4f",
   "metadata": {
    "ExecuteTime": {
     "end_time": "2023-10-04T11:15:34.566988Z",
     "start_time": "2023-10-04T11:15:34.566988Z"
    }
   },
   "outputs": [],
   "source": [
    "s1"
   ]
  },
  {
   "cell_type": "code",
   "execution_count": null,
   "id": "037e0a3f",
   "metadata": {
    "ExecuteTime": {
     "end_time": "2023-10-04T11:15:34.570058Z",
     "start_time": "2023-10-04T11:15:34.570058Z"
    }
   },
   "outputs": [],
   "source": [
    "#Does not support indexing"
   ]
  },
  {
   "cell_type": "code",
   "execution_count": null,
   "id": "d68bb6d0",
   "metadata": {
    "ExecuteTime": {
     "end_time": "2023-10-04T11:15:34.574844Z",
     "start_time": "2023-10-04T11:15:34.574844Z"
    }
   },
   "outputs": [],
   "source": [
    "s1[4]"
   ]
  },
  {
   "cell_type": "code",
   "execution_count": null,
   "id": "e982d040",
   "metadata": {
    "ExecuteTime": {
     "end_time": "2023-10-04T11:15:34.577804Z",
     "start_time": "2023-10-04T11:15:34.577804Z"
    }
   },
   "outputs": [],
   "source": [
    "#Add\n",
    "s1.add(60)"
   ]
  },
  {
   "cell_type": "code",
   "execution_count": null,
   "id": "8c391c81",
   "metadata": {
    "ExecuteTime": {
     "end_time": "2023-10-04T11:15:34.579600Z",
     "start_time": "2023-10-04T11:15:34.579600Z"
    }
   },
   "outputs": [],
   "source": [
    "s1"
   ]
  },
  {
   "cell_type": "code",
   "execution_count": null,
   "id": "de5eded3",
   "metadata": {
    "ExecuteTime": {
     "end_time": "2023-10-04T11:15:34.583727Z",
     "start_time": "2023-10-04T11:15:34.583727Z"
    }
   },
   "outputs": [],
   "source": [
    "#pop"
   ]
  },
  {
   "cell_type": "code",
   "execution_count": null,
   "id": "a7c2f0aa",
   "metadata": {
    "ExecuteTime": {
     "end_time": "2023-10-04T11:15:34.586666Z",
     "start_time": "2023-10-04T11:15:34.586666Z"
    }
   },
   "outputs": [],
   "source": [
    "s1.pop()"
   ]
  },
  {
   "cell_type": "code",
   "execution_count": null,
   "id": "1d9e2195",
   "metadata": {
    "ExecuteTime": {
     "end_time": "2023-10-04T11:15:34.590783Z",
     "start_time": "2023-10-04T11:15:34.590783Z"
    }
   },
   "outputs": [],
   "source": [
    "s1"
   ]
  },
  {
   "cell_type": "code",
   "execution_count": null,
   "id": "fcd58a00",
   "metadata": {},
   "outputs": [],
   "source": []
  }
 ],
 "metadata": {
  "_draft": {
   "nbviewer_url": "https://gist.github.com/c7e48d2b0f85e662ce272c77589a4f43"
  },
  "gist": {
   "data": {
    "description": "ExcelR/Python_Basics.ipynb",
    "public": true
   },
   "id": "c7e48d2b0f85e662ce272c77589a4f43"
  },
  "kernelspec": {
   "display_name": "Python 3 (ipykernel)",
   "language": "python",
   "name": "python3"
  },
  "language_info": {
   "codemirror_mode": {
    "name": "ipython",
    "version": 3
   },
   "file_extension": ".py",
   "mimetype": "text/x-python",
   "name": "python",
   "nbconvert_exporter": "python",
   "pygments_lexer": "ipython3",
   "version": "3.9.13"
  }
 },
 "nbformat": 4,
 "nbformat_minor": 5
}
